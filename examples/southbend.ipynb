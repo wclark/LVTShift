{
 "cells": [
  {
   "cell_type": "markdown",
   "metadata": {},
   "source": [
    "\n",
    "\n",
    "For this analysis, we're modeling a **4:1 split-rate tax** where land is taxed at four times the rate of buildings.\n",
    "\n",
    "## Policy Definition for South Bend\n",
    "\n",
    "For this analysis, we're modeling:\n",
    "- **Revenue-neutral** property tax split for the South Bend School Corporation\n",
    "- **4:1 land-to-building tax ratio** (partial LVT shift)\n",
    "- **Existing exemptions and abatements** continue to apply\n",
    "- **Focus on school corporation taxes** (which bypass Indiana's property tax caps)\n",
    "\n",
    "Let's begin by importing the necessary libraries and utility functions.\n"
   ]
  },
  {
   "cell_type": "code",
   "execution_count": 10,
   "metadata": {},
   "outputs": [],
   "source": [
    "import sys\n",
    "import pandas as pd\n",
    "sys.path.append('..')  # Add parent directory to path\n",
    "from cloud_utils import get_feature_data, get_feature_data_with_geometry\n",
    "from lvt_utils import model_split_rate_tax, calculate_current_tax\n",
    "from census_utils import get_census_data, get_census_blockgroups_shapefile, get_census_data_with_boundaries, match_to_census_blockgroups\n",
    "\n"
   ]
  },
  {
   "cell_type": "markdown",
   "metadata": {},
   "source": [
    "## Step 1: Getting the Data\n",
    "\n",
    "The first step in modeling an LVT shift is obtaining property tax data. Most counties make this information publicly accessible through open data portals or GIS systems.\n",
    "\n",
    "For St. Joseph County (which includes South Bend), we can access parcel data through their ArcGIS services. The base URL below provides access to various property datasets including:\n",
    "\n",
    "- **Parcel_Civic**: Main parcel dataset with tax information, property types, and assessed values\n",
    "- **parcel_boundaries**: Geographic boundaries for spatial analysis\n",
    "\n",
    "### Key Data Elements We Need:\n",
    "- **Full Market Value (FMV)**: Total assessed property value\n",
    "- **Land Value**: Assessed value of land only  \n",
    "- **Improvement Value**: Assessed value of buildings/structures\n",
    "- **Exemption amounts**: Various tax exemptions applied\n",
    "- **Property characteristics**: Type, location, tax district\n",
    "\n",
    "Let's fetch the main parcel dataset:\n"
   ]
  },
  {
   "cell_type": "code",
   "execution_count": null,
   "metadata": {},
   "outputs": [],
   "source": [
    "\n",
    "# Base URL for the ArcGIS services\n",
    "base_url = \"https://services.arcgis.com/OjftlhRHkAABcyiF/arcgis/rest/services\"\n",
    "# Fetch the main parcel dataset with tax info\n",
    "parcel_civic_df = get_feature_data('Parcel_Civic', base_url)\n"
   ]
  },
  {
   "cell_type": "markdown",
   "metadata": {},
   "source": [
    "## Step 2: Filtering to South Bend School Corporation\n",
    "\n",
    "Now we need to filter our dataset to include only properties within our area of interest. For this analysis, we're focusing on the South Bend School Corporation tax district.\n",
    "\n",
    "### Why Focus on School Corporation Taxes?\n",
    "\n",
    "In Indiana, most properties hit statutory tax caps that limit property tax increases. However, the South Bend School Corporation passed a referendum that allows them to exceed these caps, making it an ideal case study for LVT modeling where tax changes can actually take effect.\n",
    "\n",
    "We'll filter for:\n",
    "- Properties in South Bend city limits (`PROP_CITY` contains 'SOUTH BEND')  \n",
    "- Properties in South Bend tax districts (`TAXDIST` contains 'SB')\n"
   ]
  },
  {
   "cell_type": "code",
   "execution_count": null,
   "metadata": {},
   "outputs": [],
   "source": [
    "df = parcel_civic_df.copy()[parcel_civic_df['PROP_CITY'].str.upper().str.contains('SOUTH BEND', na=False)]\n",
    "df = df[df['TAXDIST'].str.contains('SB')].copy()"
   ]
  },
  {
   "cell_type": "markdown",
   "metadata": {},
   "source": [
    "## Step 3: Recreating Current Property Tax Revenue\n",
    "\n",
    "Before we can model an LVT shift, we need to accurately recreate the current property tax system. This validation step ensures our dataset correctly reflects the real-world tax landscape.\n",
    "\n",
    "### Key Components:\n",
    "- **Millage Rate**: $3.3 per $1,000 in assessed value (from South Bend School Corporation budget)\n",
    "- **Exemptions**: Various exemptions that reduce taxable value\n",
    "- **Exempt Properties**: Fully exempt properties (marked in `PROPTYPE`)\n",
    "\n",
    "### The Process:\n",
    "1. Calculate total exemptions from all exemption amount fields\n",
    "2. Identify fully exempt properties  \n",
    "3. Calculate taxable value (land + improvements - exemptions)\n",
    "4. Apply millage rate to get current tax liability\n",
    "5. Verify total revenue matches published budget expectations (~$27 million)\n",
    "\n",
    "This step is crucial - if we can't accurately recreate current taxes, our LVT projections won't be reliable.\n"
   ]
  },
  {
   "cell_type": "code",
   "execution_count": null,
   "metadata": {},
   "outputs": [],
   "source": [
    "\n",
    "millage_rate = 3.3\n",
    "df['millage_rate'] = millage_rate\n",
    "\n",
    "# 1. Calculate current tax\n",
    "df['exemption_flag'] = df['PROPTYPE'].apply(lambda x: 1 if 'Exempt' in x else 0)\n",
    "print(f\"Number of exempt properties: {df['exemption_flag'].sum():,} ({df['exemption_flag'].mean()*100:.1f}%)\")\n",
    "\n",
    "df['total_exemptions'] = df[['ExemptAmt1', 'ExemptAmt2', 'ExemptAmt3', 'ExemptAmt4', 'ExemptAmt5', 'ExemptAmt6']].sum(axis=1)\n",
    "# Calculate taxable value (land + improvements)\n",
    "df['taxable_value'] = df['REALLANDVA'] + df['REALIMPROV']\n",
    "\n",
    "current_revenue, second_revenue,df = calculate_current_tax(\n",
    "    df=df, \n",
    "    tax_value_col='taxable_value',\n",
    "    millage_rate_col='millage_rate',\n",
    "    exemption_col='total_exemptions',\n",
    "    exemption_flag_col='exemption_flag'\n",
    ")\n",
    "\n",
    "\n",
    "print(f\"Total number of properties: {len(df):,}\")\n",
    "print(f\"Current annual revenue with ${millage_rate*1000}/1000 millage rate: ${current_revenue:,.2f}\")\n",
    "print(f\"Total land value: ${df['REALLANDVA'].sum():,.2f}\")\n",
    "print(f\"Total improvement value: ${df['REALIMPROV'].sum():,.2f}\")\n",
    "\n"
   ]
  },
  {
   "cell_type": "markdown",
   "metadata": {
    "vscode": {
     "languageId": "raw"
    }
   },
   "source": [
    "## Step 4: Modeling the Split-Rate Land Value Tax\n",
    "\n",
    "Now for the exciting part - modeling the LVT shift! We'll create a revenue-neutral policy that taxes land at 4 times the rate of buildings.\n",
    "\n",
    "### The Split-Rate Formula\n",
    "\n",
    "Under our proposed system:\n",
    "- **Buildings** are taxed at a lower rate (Building Millage)  \n",
    "- **Land** is taxed at 4x that rate (4 × Building Millage)\n",
    "- **Total revenue** remains the same as current system\n",
    "\n",
    "The formula to solve for the building millage rate is:\n",
    "```\n",
    "Current Revenue = (Building Millage × Total Taxable Buildings) + (4 × Building Millage × Total Taxable Land)\n",
    "```\n",
    "\n",
    "### Handling Exemptions in Split-Rate System\n",
    "\n",
    "Since we want to maintain existing exemptions, we need to:\n",
    "1. Apply exemptions to building value first\n",
    "2. If exemptions exceed building value, apply remainder to land value\n",
    "3. Calculate separate taxable values for land and buildings\n",
    "\n",
    "This ensures properties don't over-benefit from exemptions and maintains the intent of existing tax policy.\n"
   ]
  },
  {
   "cell_type": "code",
   "execution_count": null,
   "metadata": {},
   "outputs": [],
   "source": [
    "# Calculate split-rate tax using model_split_rate_tax function\n",
    "land_millage, improvement_millage, new_revenue, df = model_split_rate_tax(\n",
    "    df=df,\n",
    "    land_value_col='REALLANDVA',\n",
    "    improvement_value_col='REALIMPROV',\n",
    "    current_revenue=current_revenue,\n",
    "    land_improvement_ratio=4  # 4:1 ratio as specified\n",
    ")\n",
    "\n",
    "# Calculate tax changes manually since they're not being added by the function\n",
    "df['NEW_TAX'] = (df['REALLANDVA'] * land_millage/1000) + (df['REALIMPROV'] * improvement_millage/1000)\n",
    "df['TAX_CHANGE'] = df['new_tax'] - df['current_tax']\n",
    "df['TAX_CHANGE_PCT'] = (df['TAX_CHANGE'] / df['current_tax']) * 100\n"
   ]
  },
  {
   "cell_type": "markdown",
   "metadata": {
    "vscode": {
     "languageId": "raw"
    }
   },
   "source": [
    "## Step 5: Understanding Property Types and Impacts\n",
    "\n",
    "With our split-rate tax calculated, we can now analyze which property types are most affected. Understanding the distribution of tax impacts across different property categories is crucial for policy makers and stakeholders.\n",
    "\n",
    "### Property Type Analysis\n",
    "\n",
    "We'll examine how the tax burden shifts across:\n",
    "- **Residential properties** (single-family, multi-family, condos)\n",
    "- **Commercial properties** (retail, office, industrial)  \n",
    "- **Vacant land** (often sees largest increases under LVT)\n",
    "- **Exempt properties** (government, religious, charitable)\n",
    "\n",
    "### Key Metrics to Track:\n",
    "- **Count**: Number of properties in each category\n",
    "- **Median tax change**: Typical impact (less affected by outliers)\n",
    "- **Average percentage change**: Overall magnitude of impact\n",
    "- **Percentage with increases**: How many properties see tax increases\n",
    "\n",
    "This analysis helps identify which sectors benefit from the LVT shift (typically developed properties) and which see increased burden (typically land-intensive properties with low improvement ratios).\n"
   ]
  },
  {
   "cell_type": "code",
   "execution_count": null,
   "metadata": {},
   "outputs": [],
   "source": [
    "# For each column, show top 10 most common values and their counts\n",
    "columns_to_analyze = ['CLASSCODE', 'TOWNSHIP', 'TAXDIST', 'Neighborho', 'PROPTYPE', \n",
    "                     'TAXTYPE', 'TIFAREAUID', 'LEGALDESCR']\n",
    "\n",
    "for col in columns_to_analyze:\n",
    "    print(f\"\\nTop 10 values for {col}:\")\n",
    "    value_counts = df[col].value_counts().head(10)\n",
    "    print(value_counts)\n",
    "    print(f\"Total unique values: {df[col].nunique()}\")\n",
    "    print(\"-\" * 50)\n",
    "\n",
    "# Let's also look at some basic statistics about these groups\n",
    "print(\"\\nMedian tax changes by various groupings:\")\n",
    "\n",
    "for col in ['CLASSCODE', 'TOWNSHIP', 'TAXDIST', 'PROPTYPE']:\n",
    "    print(f\"\\nMedian tax change by {col}:\")\n",
    "    median_changes = df.groupby(col)['TAX_CHANGE'].agg([\n",
    "        'count',\n",
    "        'median',\n",
    "        lambda x: (x > 0).mean() * 100  # Percentage with increase\n",
    "    ]).round(2)\n",
    "    median_changes.columns = ['Count', 'Median Change ($)', '% With Increase']\n",
    "    print(median_changes.sort_values('Count', ascending=False).head(10))"
   ]
  },
  {
   "cell_type": "code",
   "execution_count": 16,
   "metadata": {},
   "outputs": [],
   "source": [
    "def categorize_property_type(prop_type):\n",
    "    # Detailed single-family home categorization\n",
    "    if \"1 Family Dwell - Platted Lot\" in prop_type:\n",
    "        return \"Single Family\"\n",
    "    elif \"1 Family Dwell - Unplatted (0 to 9.99 Acres)\" in prop_type:\n",
    "        return \"Single Family - Unplatted Small Acreage\"\n",
    "    elif \"1 Family Dwell - Unplatted (10 to 19.99 Acres)\" in prop_type:\n",
    "        return \"Single Family - Unplatted Medium Acreage\"\n",
    "    elif \"1 Family Dwell - Unplatted\" in prop_type:\n",
    "        return \"Single Family - Unplatted Large Acreage\"\n",
    "\n",
    "    # Rest of your existing categorization\n",
    "    category_mapping = {\n",
    "        \"Small Multi-Family (2-19 units)\": [\"2 Family\", \"3 Family\", \"4 to 19 Family\"],\n",
    "        \"Large Multi-Family (20+ units)\": [\"20 to 39 Family\", \"40 or More Family\"],\n",
    "        \"Condominiums\": [\"Condominium\"],\n",
    "        \"Mobile/Manufactured Homes\": [\"Mobile\", \"Manufactured\"],\n",
    "        \"Retail Commercial\": [\"Retail\", \"Shop\", \"Store\", \"Market\", \"Department\", \"Shopping Center\"],\n",
    "        \"Office Commercial\": [\"Office\", \"Medical\", \"Bank\", \"Saving\"],\n",
    "        \"Food/Hospitality\": [\"Restaurant\", \"Bar\", \"Hotel\", \"Motel\", \"Food\"],\n",
    "        \"Industrial\": [\"Industrial\", \"Manufacturing\", \"Warehouse\", \"Assembly\", \"Factory\"],\n",
    "        \"Vacant Land\": [\"Vacant\"],\n",
    "        \"Parking\": [\"Parking\"],\n",
    "        \"Government\": [\"Exempt Municipality\", \"Exempt County\", \"Exempt State\", \"Exempt United States\",\n",
    "                      \"Exempt Board of Education\", \"Exempt Township\"],\n",
    "        \"Religious\": [\"Exempt Religious\", \"Exempt Church\", \"Exempt Chapel\", \"Exempt Mosque\",\n",
    "                     \"Exempt Synagogue\", \"Exempt Temple\"],\n",
    "        \"Charitable\": [\"Exempt Charitable\"],\n",
    "        \"Agricultural\": [\"Farm\", \"Agricultural\", \"Grain\", \"Livestock\", \"Dairy\", \"Nursery\", \"Poultry\"]\n",
    "    }\n",
    "\n",
    "    # Check for matches\n",
    "    for category, keywords in category_mapping.items():\n",
    "        if any(keyword in prop_type for keyword in keywords):\n",
    "            return category\n",
    "\n",
    "    # Handle remaining cases\n",
    "    if \"Exempt\" in prop_type:\n",
    "        return \"Other Exempt\"\n",
    "    elif \"Commercial\" in prop_type:\n",
    "        return \"Other Commercial\"\n",
    "    elif \"Residential\" in prop_type:\n",
    "        return \"Other Residential\"\n",
    "    else:\n",
    "        return \"Other\"\n",
    "\n",
    "# Apply the function to the DataFrame\n",
    "df['PROPERTY_CATEGORY'] = df['PROPTYPE'].apply(categorize_property_type)"
   ]
  },
  {
   "cell_type": "markdown",
   "metadata": {
    "vscode": {
     "languageId": "raw"
    }
   },
   "source": [
    "### Creating Detailed Property Categories\n",
    "\n",
    "To better understand impacts, we'll create a detailed property categorization system that groups similar property types together. This makes the analysis more meaningful and interpretable.\n",
    "\n",
    "The function below categorizes properties into groups like:\n",
    "- **Single Family** (with subcategories by lot size)\n",
    "- **Multi-Family** (small vs. large)\n",
    "- **Commercial** (by type: retail, office, industrial)\n",
    "- **Exempt** (by type: government, religious, charitable)\n",
    "\n",
    "This categorization helps us understand not just that \"residential\" properties are affected, but specifically which types of residential properties see the biggest changes.\n"
   ]
  },
  {
   "cell_type": "code",
   "execution_count": null,
   "metadata": {},
   "outputs": [],
   "source": [
    "# Create a summary DataFrame grouped by PROPTYPE\n",
    "proptype_analysis = df.groupby('PROPERTY_CATEGORY').agg({\n",
    "    'TAX_CHANGE_PCT': 'mean',  # Average percentage change\n",
    "    'TAX_CHANGE': 'median',    # Median dollar change\n",
    "    'PARCELID': 'count'        # Count of properties\n",
    "}).round(2)\n",
    "\n",
    "# Add percentage that increase\n",
    "proptype_increases = df.groupby('PROPERTY_CATEGORY').agg({\n",
    "    'TAX_CHANGE': lambda x: (x > 0).mean() * 100  # Percentage with increase\n",
    "}).round(2)\n",
    "\n",
    "proptype_analysis['Percent_Increased'] = proptype_increases['TAX_CHANGE']\n",
    "\n",
    "# Rename columns for clarity\n",
    "proptype_analysis.columns = [\n",
    "    'Avg_Pct_Change',\n",
    "    'Median_Dollar_Change',\n",
    "    'Property_Count',\n",
    "    'Pct_Properties_Increased'\n",
    "]\n",
    "\n",
    "# Sort by count of properties (descending)\n",
    "proptype_analysis = proptype_analysis.sort_values('Property_Count', ascending=False)\n",
    "\n",
    "# Print results\n",
    "print(\"Analysis by Property Type:\\n\")\n",
    "print(\"Note: All monetary values in dollars, percentages shown as %\\n\")\n",
    "print(proptype_analysis.to_string())\n",
    "\n",
    "# Print some summary statistics\n",
    "print(\"\\nOverall Summary:\")\n",
    "print(f\"Total properties analyzed: {proptype_analysis['Property_Count'].sum():,}\")\n",
    "print(f\"Overall median dollar change: ${df['TAX_CHANGE'].median():,.2f}\")\n",
    "print(f\"Overall average percent change: {df['TAX_CHANGE_PCT'].mean():.2f}%\")\n",
    "print(f\"Overall percent of properties with increase: {(df['TAX_CHANGE'] > 0).mean()*100:.2f}%\")"
   ]
  },
  {
   "cell_type": "markdown",
   "metadata": {
    "vscode": {
     "languageId": "raw"
    }
   },
   "source": [
    "### Summary of Tax Impacts by Property Category\n",
    "\n",
    "Now we can see the clear patterns of how different property types are affected by the LVT shift. This table will show us:\n",
    "\n",
    "- **Which property types benefit** (negative changes = tax decreases)\n",
    "- **Which property types pay more** (positive changes = tax increases)  \n",
    "- **How concentrated the impacts are** (median vs. average differences)\n",
    "- **What percentage of each type sees increases**\n",
    "\n",
    "Generally, we expect:\n",
    "- **Developed properties** (houses, commercial buildings) to see tax **decreases**\n",
    "- **Vacant land** to see the **largest increases** \n",
    "- **Properties with high improvement-to-land ratios** to benefit most\n"
   ]
  },
  {
   "cell_type": "code",
   "execution_count": null,
   "metadata": {},
   "outputs": [],
   "source": [
    "boundary_gdf = get_feature_data_with_geometry('parcel_boundaries', base_url=base_url)\n"
   ]
  },
  {
   "cell_type": "markdown",
   "metadata": {
    "vscode": {
     "languageId": "raw"
    }
   },
   "source": [
    "## Step 6: Adding Geographic Context\n",
    "\n",
    "To make our analysis spatially-aware, we need to add geographic boundaries to our parcel data. This enables us to:\n",
    "\n",
    "- **Create maps** showing tax changes across the city\n",
    "- **Analyze patterns by neighborhood** or district  \n",
    "- **Combine with demographic data** for equity analysis\n",
    "- **Present results visually** to stakeholders\n",
    "\n",
    "We'll fetch the parcel boundary data from the same ArcGIS service that contains the geometric information for each property.\n"
   ]
  },
  {
   "cell_type": "code",
   "execution_count": null,
   "metadata": {},
   "outputs": [],
   "source": [
    "\n",
    "print(len(df))\n",
    "\n",
    "# Merge with our tax analysis data\n",
    "merged_gdf = df.merge(\n",
    "    df,\n",
    "    on='PARCELID',\n",
    "    how='inner'\n",
    ")\n",
    "\n",
    "print(f\"\\nMerged data has {len(merged_gdf)} parcels\")"
   ]
  },
  {
   "cell_type": "markdown",
   "metadata": {
    "vscode": {
     "languageId": "raw"
    }
   },
   "source": [
    "### Merging Tax Analysis with Geographic Data\n",
    "\n",
    "Here we combine our tax analysis results with the geographic boundaries. This creates a spatially-enabled dataset that allows us to:\n",
    "\n",
    "1. **Map tax changes** across South Bend\n",
    "2. **Identify spatial patterns** in tax impacts\n",
    "3. **Prepare for demographic analysis** by having geographic context\n",
    "\n",
    "The merge should give us the same number of records as our original analysis, now with geographic coordinates for each parcel.\n"
   ]
  },
  {
   "cell_type": "code",
   "execution_count": null,
   "metadata": {},
   "outputs": [],
   "source": [
    "# Get census data for St. Joseph County (FIPS code: 18141)\n",
    "census_data, census_boundaries = get_census_data_with_boundaries(\n",
    "    fips_code='18141',  # Indiana (18) + St. Joseph County (141)\n",
    "    year=2022,\n",
    "    api_key='YOUR_API_KEY'  # Replace with your actual Census API key\n",
    ")\n",
    "\n",
    "# Set CRS for census boundaries before merging\n",
    "census_boundaries = census_boundaries.set_crs(epsg=4326)  # Assuming WGS84 coordinate system\n",
    "boundary_gdf = boundary_gdf.set_crs(epsg=4326)  # Set same CRS for boundary data\n",
    "\n",
    "# Merge census data with our parcel boundaries\n",
    "merged_gdf = match_to_census_blockgroups(\n",
    "    gdf=boundary_gdf,\n",
    "    census_gdf=census_boundaries,\n",
    "    join_type=\"left\"\n",
    ")\n",
    "\n",
    "# Merge the census data back onto the original dataframe\n",
    "df = df.merge(\n",
    "    merged_gdf,\n",
    "    left_on='PARCELID',\n",
    "    right_on='PARCELID',\n",
    "    how='left'\n",
    ")\n",
    "\n",
    "print(f\"Number of census blocks: {len(census_boundaries)}\")\n",
    "print(f\"Number of census data: {len(census_data)}\")\n",
    "print(f\"Number of parcels with census data: {len(df)}\")"
   ]
  },
  {
   "cell_type": "markdown",
   "metadata": {
    "vscode": {
     "languageId": "raw"
    }
   },
   "source": [
    "## Step 7: Demographic and Equity Analysis\n",
    "\n",
    "One of the most important aspects of LVT analysis is understanding the **equity implications** - how does the tax shift affect different income levels and demographic groups?\n",
    "\n",
    "### Adding Census Data\n",
    "\n",
    "We'll match each property to its Census Block Group and pull demographic data including:\n",
    "- **Median household income** \n",
    "- **Racial/ethnic composition**\n",
    "- **Population characteristics**\n",
    "\n",
    "### Why This Matters\n",
    "\n",
    "Policy makers need to understand:\n",
    "- Does the LVT shift disproportionately burden low-income neighborhoods?\n",
    "- Are there racial equity implications?  \n",
    "- Does the policy align with broader equity goals?\n",
    "\n",
    "**Note**: You'll need a Census API key for this section. Get one free at: https://api.census.gov/data/key_signup.html\n"
   ]
  },
  {
   "cell_type": "code",
   "execution_count": null,
   "metadata": {},
   "outputs": [],
   "source": [
    "print(\"DataFrame columns:\")\n",
    "print(df.columns.tolist())\n"
   ]
  },
  {
   "cell_type": "markdown",
   "metadata": {
    "vscode": {
     "languageId": "raw"
    }
   },
   "source": [
    "### Exploring the Enhanced Dataset\n",
    "\n",
    "With census data merged in, our dataset now contains both property tax information and demographic context. Let's explore what variables we now have available for analysis.\n",
    "\n",
    "This enhanced dataset allows us to examine relationships between:\n",
    "- Property characteristics and demographics\n",
    "- Tax impacts and neighborhood income levels\n",
    "- Geographic patterns in tax burden shifts\n"
   ]
  },
  {
   "cell_type": "code",
   "execution_count": null,
   "metadata": {},
   "outputs": [],
   "source": [
    "# Display all columns with maximum width\n",
    "pd.set_option('display.max_columns', None)\n",
    "pd.set_option('display.width', None)\n",
    "display(df.head())\n"
   ]
  },
  {
   "cell_type": "markdown",
   "metadata": {
    "vscode": {
     "languageId": "raw"
    }
   },
   "source": [
    "### Viewing the Complete Dataset\n",
    "\n",
    "Let's examine our enhanced dataset with all the variables we've created and merged. This gives us a comprehensive view of each property with:\n",
    "\n",
    "- **Property characteristics** (type, value, location)\n",
    "- **Current tax calculations** \n",
    "- **New LVT calculations**\n",
    "- **Tax change impacts**\n",
    "- **Demographic context** (income, race/ethnicity)\n",
    "\n",
    "This rich dataset forms the foundation for sophisticated equity and impact analysis.\n"
   ]
  },
  {
   "cell_type": "code",
   "execution_count": null,
   "metadata": {},
   "outputs": [],
   "source": [
    "import matplotlib.pyplot as plt\n",
    "import seaborn as sns\n",
    "import numpy as np\n",
    "\n",
    "def filter_data(df):\n",
    "    \"\"\"Filter data to remove negative median incomes and create non-vacant subset\"\"\"\n",
    "    df_filtered = df[df['median_income'] > 0].copy()\n",
    "    non_vacant_df = df[df['PROPERTY_CATEGORY'] != 'Vacant Land'].copy()\n",
    "    return df_filtered, non_vacant_df\n",
    "\n",
    "def calculate_block_group_summary(df):\n",
    "    \"\"\"Calculate summary statistics for census block groups\"\"\"\n",
    "    summary = df.groupby('std_geoid').agg(\n",
    "        median_income=('median_income', 'first'),\n",
    "        minority_pct=('minority_pct', 'first'),\n",
    "        black_pct=('black_pct', 'first'),\n",
    "        total_current_tax=('current_tax', 'sum'),\n",
    "        total_new_tax=('new_tax', 'sum'),\n",
    "        mean_tax_change=('TAX_CHANGE', 'mean'),\n",
    "        median_tax_change=('TAX_CHANGE', 'median'),\n",
    "        median_tax_change_pct=('TAX_CHANGE_PCT', 'median'),\n",
    "        parcel_count=('TAX_CHANGE', 'count'),\n",
    "        has_vacant_land=('PROPERTY_CATEGORY', lambda x: 'Vacant Land' in x.values)\n",
    "    ).reset_index()\n",
    "    \n",
    "    summary['mean_tax_change_pct'] = ((summary['total_new_tax'] - summary['total_current_tax']) / \n",
    "                                    summary['total_current_tax']) * 100\n",
    "    return summary\n",
    "\n",
    "def create_scatter_plot(data, x_col, y_col, ax, title, xlabel, ylabel):\n",
    "    \"\"\"Create a scatter plot with trend line\"\"\"\n",
    "    sns.scatterplot(\n",
    "        data=data,\n",
    "        x=x_col,\n",
    "        y=y_col,\n",
    "        size='parcel_count',\n",
    "        sizes=(20, 200),\n",
    "        alpha=0.7,\n",
    "        ax=ax\n",
    "    )\n",
    "    \n",
    "    ax.axhline(y=0, color='r', linestyle='--')\n",
    "    \n",
    "    x = data[x_col].dropna()\n",
    "    y = data[y_col].dropna()\n",
    "    mask = ~np.isnan(x) & ~np.isnan(y)\n",
    "    \n",
    "    if len(x[mask]) > 1:\n",
    "        z = np.polyfit(x[mask], y[mask], 1)\n",
    "        p = np.poly1d(z)\n",
    "        ax.plot(x[mask], p(x[mask]), \"r--\")\n",
    "    \n",
    "    ax.set_xlabel(xlabel)\n",
    "    ax.set_ylabel(ylabel)\n",
    "    ax.set_title(title)\n",
    "\n",
    "def plot_comparison(data1, data2, x_col, y_col, title_prefix, xlabel):\n",
    "    \"\"\"Create side-by-side comparison plots\"\"\"\n",
    "    fig, (ax1, ax2) = plt.subplots(1, 2, figsize=(18, 8))\n",
    "    \n",
    "    create_scatter_plot(data1, x_col, y_col, ax1, \n",
    "                       f'{title_prefix} - All Properties', xlabel, 'Mean Tax Change (%)')\n",
    "    create_scatter_plot(data2, x_col, y_col, ax2,\n",
    "                       f'{title_prefix} - Excluding Vacant Land', xlabel, 'Mean Tax Change (%)')\n",
    "    \n",
    "    plt.tight_layout()\n",
    "    plt.show()\n",
    "\n",
    "def calculate_correlations(data1, data2):\n",
    "    \"\"\"Calculate correlations between variables\"\"\"\n",
    "    correlations = {}\n",
    "    for df, suffix in [(data1, 'all'), (data2, 'non_vacant')]:\n",
    "        correlations[f'income_mean_{suffix}'] = df[['median_income', 'mean_tax_change_pct']].corr().iloc[0, 1]\n",
    "        correlations[f'income_median_{suffix}'] = df[['median_income', 'median_tax_change_pct']].corr().iloc[0, 1]\n",
    "        correlations[f'minority_mean_{suffix}'] = df[['minority_pct', 'mean_tax_change_pct']].corr().iloc[0, 1]\n",
    "        correlations[f'black_mean_{suffix}'] = df[['black_pct', 'mean_tax_change_pct']].corr().iloc[0, 1]\n",
    "    return correlations\n",
    "\n",
    "def create_quintile_summary(df, group_col, value_col):\n",
    "    \"\"\"Create summary statistics by quintiles\"\"\"\n",
    "    df[f'{group_col}_quintile'] = pd.qcut(df[group_col], 5, \n",
    "                                         labels=[\"Q1 (Lowest)\", \"Q2\", \"Q3\", \"Q4\", \"Q5 (Highest)\"])\n",
    "    \n",
    "    summary = df.groupby(f'{group_col}_quintile').agg(\n",
    "        count=('TAX_CHANGE', 'count'),\n",
    "        mean_tax_change=('TAX_CHANGE', 'mean'),\n",
    "        median_tax_change=('TAX_CHANGE', 'median'),\n",
    "        mean_value=(value_col, 'mean')\n",
    "    ).reset_index()\n",
    "    \n",
    "    return summary\n",
    "\n",
    "# Main execution\n",
    "gdf_filtered, non_vacant_gdf = filter_data(df)\n",
    "print(f\"Number of rows in gdf_filtered: {len(gdf_filtered)}\")\n",
    "print(f\"Number of rows in non_vacant_gdf: {len(non_vacant_gdf)}\")\n",
    "\n",
    "# Calculate block group summaries\n",
    "census_block_groups = calculate_block_group_summary(gdf_filtered)\n",
    "non_vacant_block_summary = calculate_block_group_summary(non_vacant_gdf)\n",
    "\n",
    "# Create comparison plots\n",
    "plot_comparison(census_block_groups, non_vacant_block_summary, \n",
    "               'median_income', 'mean_tax_change_pct', \n",
    "               'Mean Tax Change vs. Median Income', \n",
    "               'Median Income by Census Block Group ($)')\n",
    "\n",
    "plot_comparison(census_block_groups, non_vacant_block_summary,\n",
    "               'minority_pct', 'mean_tax_change_pct',\n",
    "               'Mean Tax Change vs. Minority Percentage',\n",
    "               'Minority Population Percentage by Census Block Group')\n",
    "\n",
    "plot_comparison(census_block_groups, non_vacant_block_summary,\n",
    "               'black_pct', 'mean_tax_change_pct',\n",
    "               'Mean Tax Change vs. Black Percentage',\n",
    "               'Black Population Percentage by Census Block Group')\n",
    "\n",
    "# Calculate and print correlations\n",
    "correlations = calculate_correlations(census_block_groups, non_vacant_block_summary)\n",
    "for key, value in correlations.items():\n",
    "    print(f\"Correlation {key}: {value:.4f}\")\n",
    "\n",
    "# Create and display quintile summaries\n",
    "income_quintile_summary = create_quintile_summary(gdf_filtered, 'median_income', 'median_income')\n",
    "non_vacant_income_quintile_summary = create_quintile_summary(non_vacant_gdf, 'median_income', 'median_income')\n",
    "minority_quintile_summary = create_quintile_summary(gdf_filtered, 'minority_pct', 'minority_pct')\n",
    "non_vacant_minority_quintile_summary = create_quintile_summary(non_vacant_gdf, 'minority_pct', 'minority_pct')\n",
    "\n",
    "print(\"\\nTax impact by income quintile (all properties):\")\n",
    "display(income_quintile_summary)\n",
    "print(\"\\nTax impact by income quintile (excluding vacant land):\")\n",
    "display(non_vacant_income_quintile_summary)\n",
    "print(\"\\nTax impact by minority percentage quintile (all properties):\")\n",
    "display(minority_quintile_summary)\n",
    "print(\"\\nTax impact by minority percentage quintile (excluding vacant land):\")\n",
    "display(non_vacant_minority_quintile_summary)\n"
   ]
  }
 ],
 "metadata": {
  "kernelspec": {
   "display_name": "py311",
   "language": "python",
   "name": "python3"
  },
  "language_info": {
   "codemirror_mode": {
    "name": "ipython",
    "version": 3
   },
   "file_extension": ".py",
   "mimetype": "text/x-python",
   "name": "python",
   "nbconvert_exporter": "python",
   "pygments_lexer": "ipython3",
   "version": "3.11.11"
  }
 },
 "nbformat": 4,
 "nbformat_minor": 2
}
